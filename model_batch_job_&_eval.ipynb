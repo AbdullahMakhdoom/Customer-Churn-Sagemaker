{
 "cells": [
  {
   "cell_type": "markdown",
   "id": "22a0eb41",
   "metadata": {},
   "source": [
    "## Batch Prediction \n",
    "To preprocess entire datasets quickly or to get inferences from a trained model for large datasets when you don't need a persistent endpoint, Batch Transform is preferred way to deploy model.\n",
    "Batch Transform manages all necessary compute resources, including launching instances to deploy endpoints and deleting them afterward.\n"
   ]
  },
  {
   "cell_type": "code",
   "execution_count": 1,
   "id": "a5a1b5bd",
   "metadata": {},
   "outputs": [],
   "source": [
    "default_bucket = \"sagemaker-us-west-1-055338534628/customer-churn-ml-prediction/telco_churn_data\"\n",
    "batch_input = 's3://{}/batch/test_input.csv'.format(default_bucket) # test data used for prediction\n",
    "batch_output = 's3://{}/batch/test-batch-inference.csv'.format(default_bucket) \n"
   ]
  },
  {
   "cell_type": "code",
   "execution_count": 2,
   "id": "45b0f429",
   "metadata": {},
   "outputs": [],
   "source": [
    "import pandas as pd\n",
    "\n",
    "# popping ground truth label from test set we saved in \"data_analysis_&_prep.ipynb\"\n",
    "test_set = pd.read_csv('s3://{}/test/test.csv'.format(default_bucket), header=None)\n",
    "ground_truth_test = test_set.iloc[:, :1]\n",
    "test_input_batch = test_set.iloc[:, 1:]\n",
    "test_input_batch.to_csv('s3://{}/batch/test_input.csv'.format(default_bucket), header=False, index=False)"
   ]
  },
  {
   "cell_type": "code",
   "execution_count": 3,
   "id": "78dfa064",
   "metadata": {},
   "outputs": [
    {
     "data": {
      "text/html": [
       "<div>\n",
       "<style scoped>\n",
       "    .dataframe tbody tr th:only-of-type {\n",
       "        vertical-align: middle;\n",
       "    }\n",
       "\n",
       "    .dataframe tbody tr th {\n",
       "        vertical-align: top;\n",
       "    }\n",
       "\n",
       "    .dataframe thead th {\n",
       "        text-align: right;\n",
       "    }\n",
       "</style>\n",
       "<table border=\"1\" class=\"dataframe\">\n",
       "  <thead>\n",
       "    <tr style=\"text-align: right;\">\n",
       "      <th></th>\n",
       "      <th>1</th>\n",
       "      <th>2</th>\n",
       "      <th>3</th>\n",
       "      <th>4</th>\n",
       "      <th>5</th>\n",
       "      <th>6</th>\n",
       "      <th>7</th>\n",
       "      <th>8</th>\n",
       "      <th>9</th>\n",
       "      <th>10</th>\n",
       "      <th>...</th>\n",
       "      <th>37</th>\n",
       "      <th>38</th>\n",
       "      <th>39</th>\n",
       "      <th>40</th>\n",
       "      <th>41</th>\n",
       "      <th>42</th>\n",
       "      <th>43</th>\n",
       "      <th>44</th>\n",
       "      <th>45</th>\n",
       "      <th>46</th>\n",
       "    </tr>\n",
       "  </thead>\n",
       "  <tbody>\n",
       "    <tr>\n",
       "      <th>0</th>\n",
       "      <td>69</td>\n",
       "      <td>81.95</td>\n",
       "      <td>5601.40</td>\n",
       "      <td>0</td>\n",
       "      <td>1</td>\n",
       "      <td>1</td>\n",
       "      <td>0</td>\n",
       "      <td>0</td>\n",
       "      <td>1</td>\n",
       "      <td>0</td>\n",
       "      <td>...</td>\n",
       "      <td>1</td>\n",
       "      <td>0</td>\n",
       "      <td>0</td>\n",
       "      <td>1</td>\n",
       "      <td>0</td>\n",
       "      <td>1</td>\n",
       "      <td>1</td>\n",
       "      <td>0</td>\n",
       "      <td>0</td>\n",
       "      <td>0</td>\n",
       "    </tr>\n",
       "    <tr>\n",
       "      <th>1</th>\n",
       "      <td>33</td>\n",
       "      <td>80.10</td>\n",
       "      <td>2603.30</td>\n",
       "      <td>0</td>\n",
       "      <td>1</td>\n",
       "      <td>1</td>\n",
       "      <td>0</td>\n",
       "      <td>1</td>\n",
       "      <td>0</td>\n",
       "      <td>1</td>\n",
       "      <td>...</td>\n",
       "      <td>0</td>\n",
       "      <td>0</td>\n",
       "      <td>1</td>\n",
       "      <td>0</td>\n",
       "      <td>1</td>\n",
       "      <td>0</td>\n",
       "      <td>1</td>\n",
       "      <td>0</td>\n",
       "      <td>0</td>\n",
       "      <td>0</td>\n",
       "    </tr>\n",
       "    <tr>\n",
       "      <th>2</th>\n",
       "      <td>46</td>\n",
       "      <td>21.10</td>\n",
       "      <td>937.10</td>\n",
       "      <td>1</td>\n",
       "      <td>0</td>\n",
       "      <td>1</td>\n",
       "      <td>0</td>\n",
       "      <td>1</td>\n",
       "      <td>0</td>\n",
       "      <td>1</td>\n",
       "      <td>...</td>\n",
       "      <td>0</td>\n",
       "      <td>0</td>\n",
       "      <td>0</td>\n",
       "      <td>1</td>\n",
       "      <td>0</td>\n",
       "      <td>1</td>\n",
       "      <td>0</td>\n",
       "      <td>0</td>\n",
       "      <td>1</td>\n",
       "      <td>0</td>\n",
       "    </tr>\n",
       "    <tr>\n",
       "      <th>3</th>\n",
       "      <td>1</td>\n",
       "      <td>69.60</td>\n",
       "      <td>69.60</td>\n",
       "      <td>1</td>\n",
       "      <td>0</td>\n",
       "      <td>0</td>\n",
       "      <td>1</td>\n",
       "      <td>1</td>\n",
       "      <td>0</td>\n",
       "      <td>1</td>\n",
       "      <td>...</td>\n",
       "      <td>0</td>\n",
       "      <td>1</td>\n",
       "      <td>0</td>\n",
       "      <td>0</td>\n",
       "      <td>0</td>\n",
       "      <td>1</td>\n",
       "      <td>0</td>\n",
       "      <td>0</td>\n",
       "      <td>1</td>\n",
       "      <td>0</td>\n",
       "    </tr>\n",
       "    <tr>\n",
       "      <th>4</th>\n",
       "      <td>1</td>\n",
       "      <td>75.55</td>\n",
       "      <td>75.55</td>\n",
       "      <td>1</td>\n",
       "      <td>0</td>\n",
       "      <td>1</td>\n",
       "      <td>0</td>\n",
       "      <td>1</td>\n",
       "      <td>0</td>\n",
       "      <td>1</td>\n",
       "      <td>...</td>\n",
       "      <td>0</td>\n",
       "      <td>1</td>\n",
       "      <td>0</td>\n",
       "      <td>0</td>\n",
       "      <td>1</td>\n",
       "      <td>0</td>\n",
       "      <td>0</td>\n",
       "      <td>0</td>\n",
       "      <td>1</td>\n",
       "      <td>0</td>\n",
       "    </tr>\n",
       "  </tbody>\n",
       "</table>\n",
       "<p>5 rows × 46 columns</p>\n",
       "</div>"
      ],
      "text/plain": [
       "   1      2        3   4   5   6   7   8   9   10  ...  37  38  39  40  41  \\\n",
       "0  69  81.95  5601.40   0   1   1   0   0   1   0  ...   1   0   0   1   0   \n",
       "1  33  80.10  2603.30   0   1   1   0   1   0   1  ...   0   0   1   0   1   \n",
       "2  46  21.10   937.10   1   0   1   0   1   0   1  ...   0   0   0   1   0   \n",
       "3   1  69.60    69.60   1   0   0   1   1   0   1  ...   0   1   0   0   0   \n",
       "4   1  75.55    75.55   1   0   1   0   1   0   1  ...   0   1   0   0   1   \n",
       "\n",
       "   42  43  44  45  46  \n",
       "0   1   1   0   0   0  \n",
       "1   0   1   0   0   0  \n",
       "2   1   0   0   1   0  \n",
       "3   1   0   0   1   0  \n",
       "4   0   0   0   1   0  \n",
       "\n",
       "[5 rows x 46 columns]"
      ]
     },
     "execution_count": 3,
     "metadata": {},
     "output_type": "execute_result"
    }
   ],
   "source": [
    "test_input_batch.head()"
   ]
  },
  {
   "cell_type": "code",
   "execution_count": 5,
   "id": "445979bf",
   "metadata": {},
   "outputs": [],
   "source": [
    "from time import gmtime, strftime\n",
    "\n",
    "Modelname = 'Customer-Churn-Classification' # the model name we already \n",
    "transformJobName = 'xgboost-churn-call-batch'+ strftime(\"%Y-%m-%d-%H-%M-%S\", gmtime())\n"
   ]
  },
  {
   "cell_type": "code",
   "execution_count": 6,
   "id": "66d07455",
   "metadata": {},
   "outputs": [],
   "source": [
    "import boto3\n",
    "client = boto3.client('sagemaker')\n"
   ]
  },
  {
   "cell_type": "code",
   "execution_count": 7,
   "id": "6d802356",
   "metadata": {},
   "outputs": [],
   "source": [
    "create_batch = client.create_transform_job(\n",
    "    TransformJobName=transformJobName,\n",
    "    ModelName=Modelname,\n",
    "    MaxConcurrentTransforms=0,\n",
    "    MaxPayloadInMB=6,\n",
    "    BatchStrategy='MultiRecord',\n",
    "    TransformInput={\n",
    "        'DataSource': {\n",
    "            'S3DataSource': {\n",
    "                'S3DataType': 'S3Prefix',\n",
    "                'S3Uri': batch_input \n",
    "            }\n",
    "        },\n",
    "        'ContentType': 'text/csv',\n",
    "        'CompressionType': 'None',\n",
    "        'SplitType': 'Line'\n",
    "    },\n",
    "    TransformOutput={\n",
    "        'S3OutputPath': batch_output,\n",
    "        'AssembleWith': 'Line'\n",
    "    },\n",
    "    TransformResources={\n",
    "        'InstanceType': 'ml.m4.xlarge',\n",
    "        'InstanceCount': 1\n",
    "    }\n",
    "    )"
   ]
  },
  {
   "cell_type": "code",
   "execution_count": 73,
   "id": "ed0e380c",
   "metadata": {},
   "outputs": [],
   "source": [
    "batch_output = 's3://{}/batch/test-batch-inference.csv/test_input.csv.out'.format(default_bucket) \n",
    "batch_pred = pd.read_csv(batch_output, header=None, encoding = \"ISO-8859-1\") # header = none\n"
   ]
  },
  {
   "cell_type": "markdown",
   "id": "eb47ab4c",
   "metadata": {},
   "source": [
    "## Evaluating Predictions"
   ]
  },
  {
   "cell_type": "code",
   "execution_count": 120,
   "id": "8b4568ae",
   "metadata": {},
   "outputs": [],
   "source": [
    "import numpy as np\n",
    "\n",
    "pred_y = np.round(batch_pred) # threshold is 0.5\n"
   ]
  },
  {
   "cell_type": "code",
   "execution_count": 121,
   "id": "d11b3bcd",
   "metadata": {},
   "outputs": [],
   "source": [
    "from sklearn import metrics\n",
    "\n",
    "def get_score(y_true,y_pred):\n",
    "    f1 = metrics.f1_score(y_true, y_pred)\n",
    "    precision = metrics.precision_score(y_true, y_pred)\n",
    "    recall = metrics.recall_score(y_true, y_pred)\n",
    "    accuracy = metrics.accuracy_score(y_true, y_pred)\n",
    "    tn, fp, fn, tp = metrics.confusion_matrix(y_true, y_pred).ravel()\n",
    "    return precision, recall, f1, accuracy, tn, fp, fn, tp"
   ]
  },
  {
   "cell_type": "code",
   "execution_count": 122,
   "id": "145d14aa",
   "metadata": {},
   "outputs": [
    {
     "data": {
      "text/plain": [
       "705"
      ]
     },
     "execution_count": 122,
     "metadata": {},
     "output_type": "execute_result"
    }
   ],
   "source": [
    "pred_y.size"
   ]
  },
  {
   "cell_type": "code",
   "execution_count": 133,
   "id": "80504f38",
   "metadata": {},
   "outputs": [
    {
     "data": {
      "text/plain": [
       "<sklearn.metrics._plot.confusion_matrix.ConfusionMatrixDisplay at 0x7f60e6a18eb0>"
      ]
     },
     "execution_count": 133,
     "metadata": {},
     "output_type": "execute_result"
    },
    {
     "data": {
      "image/png": "[encoded data removed]",
      "text/plain": [
       "<Figure size 432x288 with 2 Axes>"
      ]
     },
     "metadata": {
      "needs_background": "light"
     },
     "output_type": "display_data"
    }
   ],
   "source": [
    "from sklearn.metrics import ConfusionMatrixDisplay \n",
    "import matplotlib.pyplot as plt\n",
    "\n",
    "cm = metrics.confusion_matrix(ground_truth_test, pred_y)\n",
    "confusion_matrix = ConfusionMatrixDisplay(confusion_matrix=cm)\n",
    "confusion_matrix.plot()"
   ]
  },
  {
   "cell_type": "code",
   "execution_count": 124,
   "id": "8dd94192",
   "metadata": {},
   "outputs": [
    {
     "name": "stdout",
     "output_type": "stream",
     "text": [
      "Precision =  0.5857142857142857\n",
      "Recall =  0.47953216374269003\n",
      "F1-score =  0.5273311897106109\n",
      "Accuracy =  0.7914893617021277\n",
      "True Positive =  82\n",
      "True Negative =  476\n",
      "False Postive =  58\n",
      "False Negative =  89\n"
     ]
    }
   ],
   "source": [
    "precision, recall, f1, acc, tn, fp, fn, tp = get_score(ground_truth_test,pred_y)\n",
    "print(\"Precision = \", precision)\n",
    "print(\"Recall = \", recall)\n",
    "print(\"F1-score = \", f1)\n",
    "print(\"Accuracy = \", acc)\n",
    "print(\"True Positive = \", tp)\n",
    "print(\"True Negative = \", tn)\n",
    "print(\"False Postive = \", fp)\n",
    "print(\"False Negative = \", fn)\n"
   ]
  },
  {
   "cell_type": "markdown",
   "id": "e56109d9",
   "metadata": {},
   "source": [
    "Out of 140 churned customers predicted, we were able to predict 82 of them (true positive) correctly. And we incorrectly predicted 58 customers who ended up not doing so (false postive). \n",
    "There were 89 customers who ended up churning, that we predicted would not (false negative).\n",
    "\n",
    "An important point here is that because of the np.round() function above we are using a simple threshold (or cutoff) of 0.5. Our predictions from xgboost come out as continuous values between 0 and 1 and we force them into the binary classes that we began with. However, because a customer that churns is expected to cost the company more than proactively trying to retain a customer who we think might churn, we should consider adjusting this cutoff. That will almost certainly increase the number of false positives, but it can also be expected to increase the number of true positives and reduce the number of false negatives.\n",
    "\n",
    "To get a rough intuition here, let's look at the continuous values of our predictions.\n",
    "\n"
   ]
  },
  {
   "cell_type": "code",
   "execution_count": 95,
   "id": "96becd9a",
   "metadata": {},
   "outputs": [
    {
     "data": {
      "image/png": "[encoded data removed]",
      "text/plain": [
       "<Figure size 432x288 with 1 Axes>"
      ]
     },
     "metadata": {
      "needs_background": "light"
     },
     "output_type": "display_data"
    }
   ],
   "source": [
    "plt.hist(batch_pred)\n",
    "plt.xlabel(\"Predicted churn probability\")\n",
    "plt.ylabel(\"Number of customers\")\n",
    "plt.show()"
   ]
  },
  {
   "cell_type": "markdown",
   "id": "d0715601",
   "metadata": {},
   "source": [
    "Whereas if we apply a cutoff of 0.5, the binary predictions have histogram as shown below"
   ]
  },
  {
   "cell_type": "code",
   "execution_count": 126,
   "id": "342d1c4b",
   "metadata": {
    "scrolled": true
   },
   "outputs": [
    {
     "data": {
      "image/png": "[encoded data removed]",
      "text/plain": [
       "<Figure size 432x288 with 1 Axes>"
      ]
     },
     "metadata": {
      "needs_background": "light"
     },
     "output_type": "display_data"
    }
   ],
   "source": [
    "plt.hist(pred_y)\n",
    "plt.xlabel(\"Classes\")\n",
    "plt.ylabel(\"Number of customers\")\n",
    "plt.show()\n"
   ]
  },
  {
   "cell_type": "code",
   "execution_count": 131,
   "id": "136411b8",
   "metadata": {},
   "outputs": [
    {
     "data": {
      "text/plain": [
       "0.0    565\n",
       "1.0    140\n",
       "dtype: int64"
      ]
     },
     "execution_count": 131,
     "metadata": {},
     "output_type": "execute_result"
    }
   ],
   "source": [
    "pred_y.value_counts()"
   ]
  },
  {
   "cell_type": "markdown",
   "id": "bb6d3602",
   "metadata": {},
   "source": [
    "As we can see from the histogram of batch predictions, there is sufficient mass between 0.1 and 0.9 , so adjusting the cutoff should indeed shift a number of customers' predictions. Lets try a threshold of 0.3  and see how the confusion matrix changes."
   ]
  },
  {
   "cell_type": "code",
   "execution_count": 113,
   "id": "a37616d1",
   "metadata": {},
   "outputs": [
    {
     "data": {
      "text/plain": [
       "<sklearn.metrics._plot.confusion_matrix.ConfusionMatrixDisplay at 0x7f60e6ba80a0>"
      ]
     },
     "execution_count": 113,
     "metadata": {},
     "output_type": "execute_result"
    },
    {
     "data": {
      "image/png": "[encoded data removed]",
      "text/plain": [
       "<Figure size 432x288 with 2 Axes>"
      ]
     },
     "metadata": {
      "needs_background": "light"
     },
     "output_type": "display_data"
    }
   ],
   "source": [
    "import numpy as np\n",
    "\n",
    "pred_y = np.where(batch_pred > 0.3, 1, 0)\n",
    "cm = metrics.confusion_matrix(ground_truth_test, pred_y)\n",
    "confusion_matrix = ConfusionMatrixDisplay(confusion_matrix=cm)\n",
    "confusion_matrix.plot()"
   ]
  },
  {
   "cell_type": "code",
   "execution_count": 114,
   "id": "6afb1d57",
   "metadata": {},
   "outputs": [
    {
     "name": "stdout",
     "output_type": "stream",
     "text": [
      "Precision =  0.5150214592274678\n",
      "Recall =  0.7017543859649122\n",
      "F1-score =  0.594059405940594\n",
      "Accuracy =  0.7673758865248227\n",
      "True Positive =  120\n",
      "True Negative =  421\n",
      "False Postive =  113\n",
      "False Negative =  51\n"
     ]
    }
   ],
   "source": [
    "precision, recall, f1, acc, tn, fp, fn, tp = get_score(ground_truth_test,pred_y)\n",
    "print(\"Precision = \", precision)\n",
    "print(\"Recall = \", recall)\n",
    "print(\"F1-score = \", f1)\n",
    "print(\"Accuracy = \", acc)\n",
    "print(\"True Positive = \", tp)\n",
    "print(\"True Negative = \", tn)\n",
    "print(\"False Postive = \", fp)\n",
    "print(\"False Negative = \", fn)\n"
   ]
  },
  {
   "cell_type": "code",
   "execution_count": 100,
   "id": "92f4e531",
   "metadata": {},
   "outputs": [
    {
     "data": {
      "image/png": "[encoded data removed]",
      "text/plain": [
       "<Figure size 432x288 with 1 Axes>"
      ]
     },
     "metadata": {
      "needs_background": "light"
     },
     "output_type": "display_data"
    }
   ],
   "source": [
    "plt.hist(pred_y)\n",
    "plt.xlabel(\"Classes\")\n",
    "plt.ylabel(\"Number of customers\")\n",
    "plt.show()"
   ]
  },
  {
   "cell_type": "markdown",
   "id": "c7ebef28",
   "metadata": {},
   "source": [
    "Lowering the cutoff threshold from 0.5 to 0.3 results in 38 more true postives, 55 more false postive and 38 fewer false negatives.\n",
    "Altough we end up retaining 38 more customers, we are also unnecessarily incentivizing 55 more customers who would have stayed anyway.\n",
    "Determining optimal cutoffs is a key step in properly applying machine learning in a real-world setting. Let's discuss this more broadly and then apply a specific, hypothetical solution for our current problem."
   ]
  },
  {
   "cell_type": "markdown",
   "id": "8dd07b47",
   "metadata": {},
   "source": [
    "## Relative cost of errors\n"
   ]
  },
  {
   "cell_type": "markdown",
   "id": "3f6b383c",
   "metadata": {},
   "source": [
    "Any practical binary classification problem is likely to produce a similarly sensitive cutoff. That by itself isn’t a problem. After all, if the scores for two classes are really easy to separate, the problem probably isn’t very hard to begin with and might even be solvable with deterministic rules instead of ML.\n",
    "\n",
    "More important, if we put an ML model into production, there are costs associated with the model erroneously assigning false positives and false negatives. We also need to look at similar costs associated with correct predictions of true positives and true negatives. Because the choice of the cutoff affects all four of these statistics, we need to consider the relative costs to the business for each of these four outcomes for each prediction.\n",
    "\n"
   ]
  },
  {
   "cell_type": "markdown",
   "id": "69bf6d97",
   "metadata": {},
   "source": [
    "### Assigning costs\n",
    "\n",
    "What are the costs for our problem of mobile operator churn? The costs, of course, depend on the specific actions that the business takes. Let's make some assumptions here.\n",
    "\n",
    "First, assign the true negatives the cost of $0. Our model essentially correctly identified a happy customer in this case, and we don’t need to do anything.\n",
    "\n",
    "False negatives are the most problematic, because they incorrectly predict that a churning customer will stay. We lose the customer and will have to pay all the costs of acquiring a replacement customer, including foregone revenue, advertising costs, administrative costs, point of sale costs, and likely a phone hardware subsidy. A quick search on the Internet reveals that such costs typically run in the hundreds of dollars so, for the purposes of this example, let's assume $500. This is the cost of false negatives.\n",
    "\n",
    "Finally, for customers that our model identifies as churning, let's assume a retention incentive in the amount of \\\\$100. If a provider offered a customer such a concession, they may think twice before leaving. This is the cost of both true positive and false positive outcomes. In the case of false positives (the customer is happy, but the model mistakenly predicted churn), we will waste the $100 concession. We probably could have spent that \\\\$100 more effectively, but it's possible we increased the loyalty of an already loyal customer, so that’s not so bad.\n",
    "\n",
    "\n"
   ]
  },
  {
   "cell_type": "markdown",
   "id": "f67a8bd1",
   "metadata": {},
   "source": [
    "## Finding the optimal cutoff\n",
    "It’s clear that false negatives are substantially more costly than false positives. Instead of optimizing for error based on the number of customers, we should be minimizing a cost function that looks like this:\n",
    "\n",
    "    $500 * FN(C) + $0 * TN(C) + $100 * FP(C) + $100 * TP(C)\n",
    "\n",
    "FN(C) means that the false negative percentage is a function of the cutoff, C, and similar for TN, FP, and TP. We need to find the cutoff, C, where the result of the expression is smallest.\n",
    "\n",
    "A straightforward way to do this is to simply run a simulation over numerous possible cutoffs. We test 100 possible values in the for-loop below."
   ]
  },
  {
   "cell_type": "code",
   "execution_count": 163,
   "id": "d43bc22d",
   "metadata": {},
   "outputs": [
    {
     "data": {
      "text/plain": [
       "705"
      ]
     },
     "execution_count": 163,
     "metadata": {},
     "output_type": "execute_result"
    }
   ],
   "source": [
    "\n",
    "# pd.crosstab(index=test_set.iloc[:, 0], columns = pred_y)\n",
    "len(pred_y)"
   ]
  },
  {
   "cell_type": "code",
   "execution_count": 166,
   "id": "46250aff",
   "metadata": {},
   "outputs": [
    {
     "name": "stderr",
     "output_type": "stream",
     "text": [
      "/home/ec2-user/anaconda3/envs/python3/lib/python3.8/site-packages/sklearn/metrics/_classification.py:1308: UndefinedMetricWarning: Precision is ill-defined and being set to 0.0 due to no predicted samples. Use `zero_division` parameter to control this behavior.\n",
      "  _warn_prf(average, modifier, msg_start, len(result))\n",
      "/home/ec2-user/anaconda3/envs/python3/lib/python3.8/site-packages/sklearn/metrics/_classification.py:1308: UndefinedMetricWarning: Precision is ill-defined and being set to 0.0 due to no predicted samples. Use `zero_division` parameter to control this behavior.\n",
      "  _warn_prf(average, modifier, msg_start, len(result))\n",
      "/home/ec2-user/anaconda3/envs/python3/lib/python3.8/site-packages/sklearn/metrics/_classification.py:1308: UndefinedMetricWarning: Precision is ill-defined and being set to 0.0 due to no predicted samples. Use `zero_division` parameter to control this behavior.\n",
      "  _warn_prf(average, modifier, msg_start, len(result))\n",
      "/home/ec2-user/anaconda3/envs/python3/lib/python3.8/site-packages/sklearn/metrics/_classification.py:1308: UndefinedMetricWarning: Precision is ill-defined and being set to 0.0 due to no predicted samples. Use `zero_division` parameter to control this behavior.\n",
      "  _warn_prf(average, modifier, msg_start, len(result))\n",
      "/home/ec2-user/anaconda3/envs/python3/lib/python3.8/site-packages/sklearn/metrics/_classification.py:1308: UndefinedMetricWarning: Precision is ill-defined and being set to 0.0 due to no predicted samples. Use `zero_division` parameter to control this behavior.\n",
      "  _warn_prf(average, modifier, msg_start, len(result))\n",
      "/home/ec2-user/anaconda3/envs/python3/lib/python3.8/site-packages/sklearn/metrics/_classification.py:1308: UndefinedMetricWarning: Precision is ill-defined and being set to 0.0 due to no predicted samples. Use `zero_division` parameter to control this behavior.\n",
      "  _warn_prf(average, modifier, msg_start, len(result))\n"
     ]
    },
    {
     "data": {
      "image/png": "[encoded data removed]",
      "text/plain": [
       "<Figure size 432x288 with 1 Axes>"
      ]
     },
     "metadata": {
      "needs_background": "light"
     },
     "output_type": "display_data"
    }
   ],
   "source": [
    "cutoffs = np.arange(0.01, 1, 0.01)\n",
    "costs = []\n",
    "\n",
    "for c in cutoffs:\n",
    "    pred_y = [item for sublist in np.where(batch_pred > c, 1, 0) for item in sublist]\n",
    "    _, _, _, _, tn, fp, fn, tp = get_score(ground_truth_test,pred_y)\n",
    "    costs.append(\n",
    "        np.sum(\n",
    "            np.sum(\n",
    "                np.array([[0, 100], [500, 100]])\n",
    "                * np.array([[tn, fp], [fn, tp]])\n",
    "            )\n",
    "        )\n",
    "    )\n",
    "\n",
    "costs = np.array(costs)\n",
    "plt.plot(cutoffs, costs)\n",
    "plt.xlabel(\"Cutoff\")\n",
    "plt.ylabel(\"Cost\")\n",
    "plt.show()"
   ]
  },
  {
   "cell_type": "code",
   "execution_count": 167,
   "id": "3576343c",
   "metadata": {},
   "outputs": [
    {
     "name": "stdout",
     "output_type": "stream",
     "text": [
      "Cost is minimized near a cutoff of: 0.14 for a cost of: 45300\n"
     ]
    }
   ],
   "source": [
    "print(\n",
    "    \"Cost is minimized near a cutoff of:\",\n",
    "    cutoffs[np.argmin(costs)],\n",
    "    \"for a cost of:\",\n",
    "    np.min(costs),\n",
    ")"
   ]
  },
  {
   "cell_type": "markdown",
   "id": "db841060",
   "metadata": {},
   "source": [
    "The above chart shows how picking a threshold too low results in costs skyrocketing as all customers are given a retention incentive. Meanwhile, setting the threshold too high results in too many lost customers, which ultimately grows to be nearly as costly. The overall cost can be minimized at $45300 by setting the cutoff to 0.14."
   ]
  }
 ],
 "metadata": {
  "kernelspec": {
   "display_name": "conda_python3",
   "language": "python",
   "name": "conda_python3"
  },
  "language_info": {
   "codemirror_mode": {
    "name": "ipython",
    "version": 3
   },
   "file_extension": ".py",
   "mimetype": "text/x-python",
   "name": "python",
   "nbconvert_exporter": "python",
   "pygments_lexer": "ipython3",
   "version": "3.8.12"
  }
 },
 "nbformat": 4,
 "nbformat_minor": 5
}

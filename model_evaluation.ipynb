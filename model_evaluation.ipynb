{
 "cells": [
  {
   "cell_type": "markdown",
   "id": "21c62f40",
   "metadata": {},
   "source": [
    "### Creating Batch Transform Job\n",
    "   To get inferences from a trained model for large datasets when you don't need a persistent endpoint, Batch Transform is the preferred way to go.\n",
    "Batch Transform manages all necessary compute resources for , including launching instances to deploy endpoints and deleting them afterward."
   ]
  },
  {
   "cell_type": "code",
   "execution_count": null,
   "id": "3e1514ea",
   "metadata": {},
   "outputs": [],
   "source": [
    "s3_batch_input = 's3://{}/{}/batch/test_data_Batch.csv'.format(bucket,prefix) # test data used for prediction\n",
    "s3_batch_output = 's3://{}/{}/batch/batch-inference'.format(bucket, prefix)"
   ]
  }
 ],
 "metadata": {
  "kernelspec": {
   "display_name": "conda_python3",
   "language": "python",
   "name": "conda_python3"
  },
  "language_info": {
   "codemirror_mode": {
    "name": "ipython",
    "version": 3
   },
   "file_extension": ".py",
   "mimetype": "text/x-python",
   "name": "python",
   "nbconvert_exporter": "python",
   "pygments_lexer": "ipython3",
   "version": "3.8.12"
  }
 },
 "nbformat": 4,
 "nbformat_minor": 5
}
